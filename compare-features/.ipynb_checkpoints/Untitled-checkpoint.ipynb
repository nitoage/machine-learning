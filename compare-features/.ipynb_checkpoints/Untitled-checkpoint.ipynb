{
 "cells": [
  {
   "cell_type": "code",
   "execution_count": 21,
   "metadata": {},
   "outputs": [
    {
     "ename": "ModuleNotFoundError",
     "evalue": "No module named 'httplib'",
     "output_type": "error",
     "traceback": [
      "\u001b[0;31m---------------------------------------------------------------------------\u001b[0m",
      "\u001b[0;31mModuleNotFoundError\u001b[0m                       Traceback (most recent call last)",
      "\u001b[0;32m<ipython-input-21-1f5bdcf49204>\u001b[0m in \u001b[0;36m<module>\u001b[0;34m()\u001b[0m\n\u001b[0;32m----> 1\u001b[0;31m \u001b[0;32mimport\u001b[0m \u001b[0mhttplib\u001b[0m\u001b[0;34m\u001b[0m\u001b[0m\n\u001b[0m\u001b[1;32m      2\u001b[0m \u001b[0;32mimport\u001b[0m \u001b[0mhttp\u001b[0m\u001b[0;34m.\u001b[0m\u001b[0mclient\u001b[0m\u001b[0;34m\u001b[0m\u001b[0m\n\u001b[1;32m      3\u001b[0m \u001b[0;32mimport\u001b[0m \u001b[0murllib\u001b[0m\u001b[0;34m.\u001b[0m\u001b[0mrequest\u001b[0m\u001b[0;34m\u001b[0m\u001b[0m\n\u001b[1;32m      4\u001b[0m \u001b[0;32mimport\u001b[0m \u001b[0murllib\u001b[0m\u001b[0;34m.\u001b[0m\u001b[0mparse\u001b[0m\u001b[0;34m\u001b[0m\u001b[0m\n\u001b[1;32m      5\u001b[0m \u001b[0;32mimport\u001b[0m \u001b[0murllib\u001b[0m\u001b[0;34m.\u001b[0m\u001b[0merror\u001b[0m\u001b[0;34m\u001b[0m\u001b[0m\n",
      "\u001b[0;31mModuleNotFoundError\u001b[0m: No module named 'httplib'"
     ]
    }
   ],
   "source": [
    "import http.client\n",
    "import urllib.request\n",
    "import urllib.parse\n",
    "import urllib.error\n",
    "import base64\n",
    "import json\n",
    "import configparser"
   ]
  },
  {
   "cell_type": "code",
   "execution_count": 18,
   "metadata": {},
   "outputs": [],
   "source": [
    "# コンフィグファイルの読み込み　個人設定\n",
    "# api\n",
    "inifile = configparser.ConfigParser()\n",
    "inifile.read('./config.ini')\n",
    "\n",
    "try:\n",
    "    proxy_url = inifile.get('private', 'proxy_url')\n",
    "except:\n",
    "    proxy_url = ''\n",
    "finally:\n",
    "    api_key = inifile.get('private', 'api_key')"
   ]
  },
  {
   "cell_type": "code",
   "execution_count": 36,
   "metadata": {},
   "outputs": [
    {
     "name": "stdout",
     "output_type": "stream",
     "text": [
      "b'{\"description\":{\"tags\":[\"dog\",\"brown\",\"animal\",\"sitting\",\"indoor\",\"mammal\",\"looking\",\"small\",\"wearing\",\"tan\",\"orange\",\"yellow\",\"hat\",\"mouth\",\"large\",\"white\",\"laying\",\"black\",\"standing\",\"head\",\"bed\",\"frisbee\",\"blue\"],\"captions\":[{\"text\":\"a brown and white dog looking at the camera\",\"confidence\":0.902391528425307}]},\"requestId\":\"0f20de2b-92e8-4990-afb6-ee85d894048c\",\"metadata\":{\"width\":600,\"height\":400,\"format\":\"Jpeg\"}}'\n"
     ]
    }
   ],
   "source": [
    "image_path = 'https://media.amazonwebservices.com/blog/2016/luna_1.jpg'\n",
    "content_type='application/json'\n",
    "body = \"\"\"{'url': '%s'}\"\"\" % (image_path)\n",
    "\n",
    "headers = {\n",
    "    # Request headers\n",
    "    'Content-Type': 'application/json',\n",
    "#     'Ocp-Apim-Subscription-Key': '91bb9f8313764f01aa689bf7cc6e106b',\n",
    "    'Ocp-Apim-Subscription-Key': api_key,\n",
    "}\n",
    "\n",
    "headers = {\n",
    "    # Request headers\n",
    "    'Content-Type': content_type,\n",
    "    # My Acount API Key\n",
    "    'Ocp-Apim-Subscription-Key': api_key,\n",
    "}\n",
    "\n",
    "# params = urllib.parse.urlencode({\n",
    "#     # Request parameters\n",
    "#     'visualFeatures': 'Categories',\n",
    "#     # 'details': '{string}',\n",
    "#     'language': 'en',\n",
    "# })\n",
    "\n",
    "params = urllib.parse.urlencode({\n",
    "    # Request parameters\n",
    "    'visualFeatures': 'Description',\n",
    "    # 'visualFeatures': 'Categories,Tags, Description, Faces, ImageType, Color, Adult',\n",
    "    # 'details': 'Celebrities'\n",
    "    'language': 'en',\n",
    "})\n",
    "\n",
    "try:\n",
    "    if proxy_url:\n",
    "        url = urllib.parse.urlparse(proxy_url)\n",
    "        conn = http.client.HTTPSConnection(url.hostname, url.port)\n",
    "        tunnel_headers = {}\n",
    "        if url.username and url.password:\n",
    "            auth = '%s:%s' % (url.username, url.password)\n",
    "            tunnel_headers['Proxy-Authorization'] = b'Basic ' + base64.b64encode(auth.encode())\n",
    "        conn.set_tunnel('api.projectoxford.ai', 443, tunnel_headers)\n",
    "        #conn.set_tunnel('southeastasia.api.cognitive.microsoft.com', 443, tunnel_headers)\n",
    "    else:\n",
    "        conn = http.client.HTTPSConnection('api.projectoxford.ai') \n",
    "        #conn = http.client.HTTPSConnection('southeastasia.api.cognitive.microsoft.com') \n",
    "    conn.request(\"POST\", \"/vision/v1.0/analyze?%s\" % params, body, headers)\n",
    "    response = conn.getresponse()\n",
    "    data = response.read()\n",
    "    print(data)\n",
    "    conn.close()\n",
    "except Exception as e:\n",
    "    print(\"[Errno {0}] {1}\".format(e.errno, e.strerror))"
   ]
  },
  {
   "cell_type": "code",
   "execution_count": null,
   "metadata": {
    "collapsed": true
   },
   "outputs": [],
   "source": []
  }
 ],
 "metadata": {
  "kernelspec": {
   "display_name": "Python 3",
   "language": "python",
   "name": "python3"
  },
  "language_info": {
   "codemirror_mode": {
    "name": "ipython",
    "version": 3
   },
   "file_extension": ".py",
   "mimetype": "text/x-python",
   "name": "python",
   "nbconvert_exporter": "python",
   "pygments_lexer": "ipython3",
   "version": "3.6.1"
  }
 },
 "nbformat": 4,
 "nbformat_minor": 2
}
