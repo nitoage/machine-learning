{
 "cells": [
  {
   "cell_type": "code",
   "execution_count": 30,
   "metadata": {
    "collapsed": false
   },
   "outputs": [],
   "source": [
    "import pandas as pd\n",
    "import numpy as np\n",
    "from datetime import datetime as dt\n",
    "from pytz import timezone\n",
    "import pytz\n",
    "from pymongo import MongoClient\n",
    "import pymongo\n",
    "import re\n",
    "import sys\n",
    "from decimal import *\n",
    "from gensim import corpora\n",
    "import time\n",
    "import networkx as nx\n",
    "import LDA\n",
    "reload(LDA)\n",
    "from LDA import *\n",
    "import matplotlib.pyplot as plt\n",
    "%matplotlib inline\n",
    "\n",
    "jst = timezone('Japan')\n",
    "is_overwrite = False #　True: 上書き; False: 上書きしない .optionでバリューを設定可能\n",
    "condid = None\n",
    "# start_date_str = '2016-03-0100:00:00'\n",
    "# end_date_str = '2016-03-0123:59:59'\n",
    "start_date_str = '2016-07-1100:00:00'\n",
    "end_date_str = '2016-09-2723:59:59'\n",
    "ISOTIMEFORMAT = '%Y-%m-%d%H:%M:%S'\n",
    "start_date = dt.strptime(start_date_str, ISOTIMEFORMAT).replace(tzinfo=jst)\n",
    "end_date = dt.strptime(end_date_str, ISOTIMEFORMAT).replace(tzinfo=jst)\n"
   ]
  },
  {
   "cell_type": "code",
   "execution_count": 31,
   "metadata": {
    "collapsed": false,
    "scrolled": true
   },
   "outputs": [],
   "source": [
    "# DBコネクション作成\n",
    "client = MongoClient(\"localhost\", 27017)\n",
    "db = client[\"vieureka2\"]"
   ]
  },
  {
   "cell_type": "code",
   "execution_count": 32,
   "metadata": {
    "collapsed": false
   },
   "outputs": [],
   "source": [
    "# layout_opt_condコレクションに指定時間のデータが存在するかのチェック\n",
    "res = db['layout_opt_cond'].find({'time_from':start_date, 'time_to':end_date}, {'_id':1})\n",
    "for item in res:\n",
    "    condid = item['_id']\n",
    "# 重複データ存在かつ上書きしないの場合そのまま終了\n",
    "if not is_overwrite  and  condid != None:\n",
    "    print '設定された期間は既に登録済みです。\\n'\\\n",
    "          '※上書き実行する場合には『-o』オプションをご指定ください。'\n",
    "    sys.exit()"
   ]
  },
  {
   "cell_type": "code",
   "execution_count": 33,
   "metadata": {
    "collapsed": false
   },
   "outputs": [],
   "source": [
    "# 要　検討\n",
    "shelfid_list = db['shelf'].distinct('_id')\n",
    "shelf_dic = {}\n",
    "for shelf in shelfid_list:\n",
    "    node_tmps = []\n",
    "    for obj in db.node.aggregate([{'$match': {'shelf_id': shelf} },{'$group':{'_id':{'node_id':'$_id'}}}]):\n",
    "        node_tmps.append(int(obj['_id']['node_id']))\n",
    "    shelf_dic[shelf] = node_tmps\n",
    "\n",
    "node_all_shelfs = set(db['node'].distinct('shelf_id'))\n",
    "# 要　検討\n",
    "\n",
    "Connection = {}\n",
    "node_id = {u'Unk': 0,}\n",
    "# area_id の座標テーブル作成\n",
    "Area = {}\n",
    "res = db['node'].find().sort([('x',pymongo.ASCENDING), ('y',pymongo.ASCENDING)])\n",
    "idx = 1\n",
    "for item in res:\n",
    "    Area[int(item['_id'])] = {'x': item['x'], 'y':item['y']}\n",
    "    adjacent = []\n",
    "    for i in item['adjacent_nodes']:\n",
    "        adjacent.append(int(i))\n",
    "    Connection[int(item['_id'])] = adjacent\n",
    "    node_id[item['_id']] = idx\n",
    "    idx += 1"
   ]
  },
  {
   "cell_type": "code",
   "execution_count": 34,
   "metadata": {
    "collapsed": false
   },
   "outputs": [],
   "source": [
    "# 店内の移動可能エリアのグラフ化\n",
    "G = nx.Graph()\n",
    "for k in np.sort(Connection.keys()):\n",
    "    id = k\n",
    "    #node座標の中心点\n",
    "    pos = [Area[id]['x'], Area[id]['y']]\n",
    "    G.add_node(k,pos=pos, count=0)\n",
    "    for e in Connection[k]:\n",
    "        G.add_edge(k,e,weight=0)\n",
    "default_weight = nx.get_edge_attributes(G, 'weight').copy()"
   ]
  },
  {
   "cell_type": "code",
   "execution_count": 35,
   "metadata": {
    "collapsed": false
   },
   "outputs": [],
   "source": [
    "# 隣接ノード間の実距離を格納する\n",
    "nx.set_edge_attributes(G, 'dist', default_weight)\n",
    "node_dist = default_weight.copy()\n",
    "pos = nx.get_node_attributes(G, 'pos')\n",
    "for i,j,attr in G.edges_iter(data=True):\n",
    "    if 'dist' in attr:\n",
    "        d = np.array(pos[i]) - np.array(pos[j])\n",
    "        node_dist[(i,j)] = np.sqrt(sum(d*d))\n",
    "nx.set_edge_attributes(G, 'dist', node_dist)"
   ]
  },
  {
   "cell_type": "markdown",
   "metadata": {},
   "source": [
    "## 購買品および購買行動を 「文章」化する"
   ]
  },
  {
   "cell_type": "code",
   "execution_count": 36,
   "metadata": {
    "collapsed": false
   },
   "outputs": [
    {
     "name": "stdout",
     "output_type": "stream",
     "text": [
      "0 0\n"
     ]
    }
   ],
   "source": [
    "matcher = {'$and':[{'start_date': {'$gte': start_date}}, {'end_date': {'$lt': end_date}}, {'data.status':2}]}\n",
    "res = db['track'].find(matcher,{'_id':1, 'data.status':1}).sort('_id', pymongo.ASCENDING)\n",
    "out1 = []\n",
    "basket_id_track = []\n",
    "out1 = []\n",
    "for item in res:\n",
    "    count = 0\n",
    "    for data in item['data']:\n",
    "        if data['status'] == 2:                                                                        \n",
    "            count += 1       \n",
    "    if count:\n",
    "        out1.append((item['_id'], count))\n",
    "        basket_id_track.append(item['_id'])\n",
    "        \n",
    "\n",
    "matcher = {'$and': \n",
    "              [\n",
    "                  {'basket_id':{'$in': basket_id_track}},\n",
    "                  {'date': {'$gte': start_date, '$lt': end_date}}\n",
    "              ]\n",
    "          }\n",
    "res = db['pos'].aggregate([\n",
    "                    { '$match': matcher},\n",
    "                    { '$group':{\n",
    "                        '_id': {'basket_id': '$basket_id'},\n",
    "                        'count': {'$sum': 1}\n",
    "                    }},\n",
    "                    { '$sort' : {'_id.basket_id' : pymongo.ASCENDING} },\n",
    "                ])\n",
    "out2 = []\n",
    "basket_id_pos = []\n",
    "for item in res:\n",
    "    out2.append((item['_id']['basket_id'], item['count']))\n",
    "    basket_id_pos.append(item['_id']['basket_id'])\n",
    "basket_id_diff = list(set(basket_id_track) - set(basket_id_pos))\n",
    "temp = []\n",
    "for item in out1:\n",
    "    if item[0] not in basket_id_diff:\n",
    "        temp.append(item)\n",
    "out1 = temp\n",
    "temp = []\n",
    "for item in out2:\n",
    "    if item[0] not in basket_id_diff:\n",
    "        temp.append(item)\n",
    "out2 = temp\n",
    "out1 = tuple(out1)\n",
    "out2 = tuple(out2)\n",
    "rct = np.c_[out1, out2][:, [0,1,3]]\n",
    "print len(out1), len(out2)"
   ]
  },
  {
   "cell_type": "code",
   "execution_count": 27,
   "metadata": {
    "collapsed": false
   },
   "outputs": [],
   "source": [
    "#　商品カテゴリIDを配列インデックスに変換するためのテーブル作成\n",
    "pos_dic = []\n",
    "for i in range(rct.shape[0]): \n",
    "    matcher = {'$and': \n",
    "                  [\n",
    "                      { 'date': {'$gte': start_date, '$lt': end_date}},\n",
    "                      { 'basket_id': rct[i,0] }\n",
    "                  ]\n",
    "              }\n",
    "    res = db['pos'].find(matcher, {'cat_id':1}).sort('cat_id', pymongo.ASCENDING)\n",
    "    for item in res:\n",
    "        pos_dic.append(item['cat_id'])\n",
    "pos_dic = np.unique(pos_dic).tolist()"
   ]
  },
  {
   "cell_type": "code",
   "execution_count": 28,
   "metadata": {
    "collapsed": false
   },
   "outputs": [],
   "source": [
    "# 各レシートに現れる購買品を単語列として、レシート＝文書とする\n",
    "\n",
    "pos_repeat = True # 複数購入を重みとして考慮するか\n",
    "pos_doc = []\n",
    "for i in range(rct.shape[0]):\n",
    "    matcher = {'$and': \n",
    "                  [\n",
    "                      { 'date': {'$gte': start_date, '$lt': end_date}},\n",
    "                      { 'basket_id': rct[i,0] }\n",
    "                  ]\n",
    "              }\n",
    "    if pos_repeat is True:\n",
    "        res = db['pos'].find(matcher, {'cat_id':1, 'num':1})\n",
    "    else:\n",
    "        res = db['pos'].aggregate([\n",
    "                    {'$match': matcher },\n",
    "                    {'$group':{\n",
    "                        '_id': {'cat_id': '$cat_id'},\n",
    "                        'num': {'$sum': '$num'}\n",
    "                    }}\n",
    "                ])\n",
    "    doc = []\n",
    "    for item in res:\n",
    "        #今回対象外のコメントアウト\n",
    "#         if int(item['cat_id']) == 977 or int(item['cat_id']) == 978: # キャンペーン商品除外\n",
    "#             continue\n",
    "        if pos_repeat is True:\n",
    "            for i in range(int(item['num'])): # 複数購入の場合は、その数の単語の繰り返しとする\n",
    "                doc.append(pos_dic.index(str(item['cat_id'])))\n",
    "        else:\n",
    "            doc.append(pos_dic.index(str(item['cat_id'])))\n",
    "    pos_doc.append(sorted(doc))"
   ]
  },
  {
   "cell_type": "code",
   "execution_count": 29,
   "metadata": {
    "collapsed": true
   },
   "outputs": [],
   "source": [
    "# 移動軌跡の欠落箇所を、店内グラフに基づいて補完する\n",
    "def add_edge_count(G, orig):\n",
    "    new = [track_dic.index(orig[0])]\n",
    "    for i in range(1, len(orig)):\n",
    "        path = nx.dijkstra_path(G, orig[i-1], orig[i], 'dist')\n",
    "        for j in range(1, len(path)):\n",
    "            new.append(track_dic.index(path[j]))\n",
    "    return new"
   ]
  },
  {
   "cell_type": "code",
   "execution_count": 11,
   "metadata": {
    "collapsed": false
   },
   "outputs": [],
   "source": [
    "# 買い物客が見ていた棚情報に基づいて、買い回り行動を「文書」化する\n",
    "# (「単語」は見ていた棚に対応)\n",
    "track_dic = []\n",
    "# res = db['node'].find({},{'shelf_id':1})\n",
    "# for item in res:\n",
    "#     for shelf in item['shelf_id']:\n",
    "#         if shelf not in track_dic:\n",
    "#             track_dic.append(shelf)\n",
    "track_dic = db['node'].distinct('shelf_id')\n",
    "\n",
    "track_doc = []\n",
    "for i in range(rct.shape[0]):\n",
    "    matcher = {'$and': \n",
    "                  [\n",
    "                      { 'data.status': {'$gt' : 0} },\n",
    "                      { 'data.ts': {'$gte': start_date, '$lt': end_date}},\n",
    "                      { '_id': rct[i,0] }\n",
    "                  ]\n",
    "              }\n",
    "    res = db['track'].find(matcher, {'data':1}).sort([('data.ts',pymongo.ASCENDING),('data.ts_ms',pymongo.ASCENDING)])\n",
    "    doc = []\n",
    "    for item in res:\n",
    "        # 対象外の為コメントアウト\n",
    "        #if item['shelf_id'] == 48 or item['shelf_id'] == 49: #　レジ滞在除外\n",
    "             #continue\n",
    "        for data in item['data']:\n",
    "#             if data['dept'] == 48 or data['dept'] == 49: #　レジ滞在除外\n",
    "#                 continue\n",
    "            if int(data['status']) == 2:\n",
    "                doc.append(track_dic.index(data['shelf_id']))\n",
    "            elif int(data['status']) == 1:\n",
    "                for r in db['node'].distinct('shelf_id', {'_id':data['node_id']}):\n",
    "                    doc.append(track_dic.index(r))\n",
    "    track_doc.append(doc)"
   ]
  },
  {
   "cell_type": "code",
   "execution_count": 12,
   "metadata": {
    "collapsed": false
   },
   "outputs": [
    {
     "name": "stdout",
     "output_type": "stream",
     "text": [
      "0\n",
      "0\n"
     ]
    }
   ],
   "source": [
    "# 移動軌跡に基づいて、買い回り行動を「文書」化する\n",
    "#  (「単語」は店内のエリアＩＤに対応)\n",
    "track_dic = range(1, len(node_id)+1)\n",
    "track_doc = []\n",
    "\n",
    "for i in range(rct.shape[0]):\n",
    "    matcher = {'$and': \n",
    "                  [\n",
    "                      { '_id': rct[i,0] },\n",
    "                      { 'data.duration': {'$gt': 5}}\n",
    "                  ]\n",
    "              }\n",
    "    res = db['track'].find(matcher, {'data.node_id':1, 'data.duration':1}).sort([('data.ts',pymongo.ASCENDING),('data.ts_ms',pymongo.ASCENDING)])\n",
    "    doc = []\n",
    "    #res = [x for x in res]   \n",
    "    #if (len(res) == 0): \n",
    "    if res.count() == 0:\n",
    "        track_doc.append([])\n",
    "        continue\n",
    "    for item in res:\n",
    "        for data in item['data']:\n",
    "            if data['duration'] > 5:\n",
    "                value = node_id[str(data['node_id'])]\n",
    "#                 if value == 0: # 未知エリア無視\n",
    "#                     continue\n",
    "#                 if value == 38 or value == 39: # レジ前無視\n",
    "#                     continue\n",
    "                doc.append(value)\n",
    "        track_doc.append(doc)\n",
    "print len(track_doc)\n",
    "print len(pos_doc)"
   ]
  },
  {
   "cell_type": "markdown",
   "metadata": {},
   "source": [
    "## マルチモーダルLDAでモデル推定"
   ]
  },
  {
   "cell_type": "code",
   "execution_count": 13,
   "metadata": {
    "collapsed": false
   },
   "outputs": [
    {
     "data": {
      "text/plain": [
       "[<matplotlib.lines.Line2D at 0x7fcbb2a48e50>]"
      ]
     },
     "execution_count": 13,
     "metadata": {},
     "output_type": "execute_result"
    },
    {
     "data": {
      "image/png": "[encoded data removed]",
      "text/plain": [
       "<matplotlib.figure.Figure at 0x7fcbb4247dd0>"
      ]
     },
     "metadata": {},
     "output_type": "display_data"
    }
   ],
   "source": [
    "buffar_class = 20\n",
    "max_class = 20\n",
    "mlda = MLDA(buffar_class, 0.1, [0.1, 0.1], [pos_doc, track_doc], [len(pos_dic), len(track_dic)+1], seed=int(time.time()))\n",
    "# mlda = MLDA(max_class, 0.1, [0.1, 0.1], [pos_doc, track_doc], [len(pos_dic), len(track_dic)+1], seed=int(time.time()))\n",
    "perp = mlda.fit(threshold=5e-2)\n",
    "plt.plot(perp)"
   ]
  },
  {
   "cell_type": "markdown",
   "metadata": {},
   "source": [
    "### 最適トピック数の決定"
   ]
  },
  {
   "cell_type": "code",
   "execution_count": 14,
   "metadata": {
    "collapsed": false
   },
   "outputs": [],
   "source": [
    "# buff = []\n",
    "# for n in [3, 5, 10, 15, 20, 30, 45, 60, 80]:\n",
    "#     mlda = MLDA(n, .1, [0.1, 0.1], [pos_doc, track_doc], [len(pos_dic), len(track_dic)+1], seed=int(time.time()))\n",
    "#     perp = mlda.fit(threshold=5e-2)\n",
    "#     buff.append([n, perp[-1]])\n",
    "# buff = np.array(buff)"
   ]
  },
  {
   "cell_type": "code",
   "execution_count": 15,
   "metadata": {
    "collapsed": false,
    "scrolled": true
   },
   "outputs": [],
   "source": [
    "# plt.plot(buff[:, 0], buff[:, 1], label='perplexity')\n",
    "# plt.rcParams[\"font.size\"] = 12\n",
    "# plt.xlabel('number of groups')\n",
    "# plt.ylabel('perplexity')\n",
    "# plt.legend()"
   ]
  },
  {
   "cell_type": "markdown",
   "metadata": {},
   "source": [
    "### クラスタリングの結果を確認"
   ]
  },
  {
   "cell_type": "code",
   "execution_count": 16,
   "metadata": {
    "collapsed": false
   },
   "outputs": [],
   "source": [
    "max_lbl = np.apply_along_axis(np.argmax, 1, mlda.topicdist())\n",
    "rslt = np.empty((0, len(pos_dic)), dtype=float)\n",
    "tmp = []\n",
    "odr = []\n",
    "for c in range(max_class):\n",
    "    basket_id = rct[max_lbl==c, 0]\n",
    "    pprob = np.zeros((len(basket_id), len(pos_dic)), dtype=float)\n",
    "    for r in range(len(basket_id)):\n",
    "        matcher = {'basket_id': basket_id[r] }\n",
    "        if pos_repeat is True:\n",
    "            res = db['pos'].find(matcher, {'cat_id':1, 'num':1})\n",
    "        else:\n",
    "            res = db['pos'].aggregate([\n",
    "                    {'$match': matcher },\n",
    "                    {'$group':{\n",
    "                        '_id': {'cat_id': '$cat_id'},\n",
    "                        'num': {'$sum': '$num'}\n",
    "                    }}\n",
    "                ])\n",
    "            \n",
    "        for item in res:\n",
    "#             if int(res[j]['cat_id']) == 977 or int(res[j]['cat_id']) == 978: #　キャンペーン商品除外\n",
    "#                 continue\n",
    "            if pos_repeat is True:\n",
    "                for i in range(int(item['num'])):\n",
    "                    pprob[r, pos_dic.index(str(item['cat_id']))] += 1\n",
    "            else:\n",
    "                pprob[r, pos_dic.index(item['cat_id'])] += 1\n",
    "    if len(pprob) != 0:\n",
    "        pprob = np.apply_along_axis(lambda x: x/sum(x), 1, pprob)\n",
    "        odr.append(np.argsort(np.apply_along_axis(np.mean, 0, pprob))[::-1][0])\n",
    "        pprob = 1.0/(1.0 + np.exp(-20. * (pprob - .5)))\n",
    "        tmp.append(pprob)          \n",
    "    \n",
    "for i in np.argsort(odr):\n",
    "    rslt = np.r_[rslt, tmp[i]]\n",
    "    rslt = np.r_[rslt, np.ones((1, len(pos_dic)), dtype=float)*2.]"
   ]
  },
  {
   "cell_type": "code",
   "execution_count": 17,
   "metadata": {
    "collapsed": false,
    "scrolled": true
   },
   "outputs": [
    {
     "data": {
      "text/plain": [
       "<matplotlib.text.Text at 0x7fcbb0927650>"
      ]
     },
     "execution_count": 17,
     "metadata": {},
     "output_type": "execute_result"
    },
    {
     "data": {
      "image/png": "[encoded data removed]",
      "text/plain": [
       "<matplotlib.figure.Figure at 0x7fcbb093d410>"
      ]
     },
     "metadata": {},
     "output_type": "display_data"
    }
   ],
   "source": [
    "plt.figure(figsize=(16, 5))\n",
    "plt.rcParams[\"font.size\"] = 18\n",
    "plt.imshow(rslt.T, cmap='Greys', interpolation='bicubic', aspect='auto')\n",
    "plt.tick_params(labelbottom='off')\n",
    "plt.tick_params(labelleft='off')\n",
    "plt.ylabel('purchases')\n",
    "plt.xlabel('customers')"
   ]
  },
  {
   "cell_type": "code",
   "execution_count": 18,
   "metadata": {
    "collapsed": false
   },
   "outputs": [],
   "source": [
    "rslt = np.empty((0, len(track_dic)+1), dtype=float)\n",
    "tmp = []\n",
    "for c in range(max_class):\n",
    "    receipt_id = rct[max_lbl==c, 0]\n",
    "    pprob = np.zeros((len(receipt_id), len(track_dic)+1), dtype=float)\n",
    "    \n",
    "    for r in range(len(receipt_id)):\n",
    "        matcher = {'_id': receipt_id[r] }\n",
    "        res = db['track'].find(matcher, {'_id':1,'data.node_id':1, 'data.duration':1}).sort([('data.ts',pymongo.ASCENDING), ('data.ts_ms', pymongo.ASCENDING)])\n",
    "        for item in res:\n",
    "            for data in item['data']:\n",
    "                pprob[r, node_id[data['node_id']]] += 1\n",
    "    if pprob.shape[0]:\n",
    "        pprob = np.apply_along_axis(lambda x: x/sum(x), 1, pprob)\n",
    "        tmp.append(pprob)\n",
    "\n",
    "for i in np.argsort(odr):\n",
    "    rslt = np.r_[rslt, tmp[i]]\n",
    "    rslt = np.r_[rslt, np.ones((1, len(track_dic)+1), dtype=float)*.15]"
   ]
  },
  {
   "cell_type": "code",
   "execution_count": 19,
   "metadata": {
    "collapsed": false
   },
   "outputs": [
    {
     "data": {
      "text/plain": [
       "<matplotlib.text.Text at 0x7fcbb034f350>"
      ]
     },
     "execution_count": 19,
     "metadata": {},
     "output_type": "execute_result"
    },
    {
     "data": {
      "image/png": "[encoded data removed]",
      "text/plain": [
       "<matplotlib.figure.Figure at 0x7fcbb2a0c2d0>"
      ]
     },
     "metadata": {},
     "output_type": "display_data"
    }
   ],
   "source": [
    "plt.figure(figsize=(16, 5))\n",
    "plt.rcParams[\"font.size\"] = 18\n",
    "plt.imshow(rslt.T, cmap='Greys', interpolation='bicubic', aspect='auto')\n",
    "plt.tick_params(labelbottom='off')\n",
    "plt.tick_params(labelleft='off')\n",
    "plt.ylabel('area')\n",
    "plt.xlabel('customers')"
   ]
  },
  {
   "cell_type": "markdown",
   "metadata": {},
   "source": [
    "## クラスタリング結果をファイルに保存"
   ]
  },
  {
   "cell_type": "code",
   "execution_count": 20,
   "metadata": {
    "collapsed": false
   },
   "outputs": [],
   "source": [
    "for i in range(max_class):\n",
    "    basket_id = rct[max_lbl==i, 0]\n",
    "    pd.DataFrame(basket_id).to_csv(\"lda_%02d.csv\" % i, sep=\",\", header=False, index=False) "
   ]
  },
  {
   "cell_type": "code",
   "execution_count": 21,
   "metadata": {
    "collapsed": false
   },
   "outputs": [],
   "source": [
    "# カテゴリの商品ジャンル名辞書の構築\n",
    "def build_category_dic():\n",
    "    out = []\n",
    "    dummy = {}\n",
    "    res = db['category'].find()\n",
    "    for i in range(res.count()):\n",
    "        t = [i, i, 1]\n",
    "        out = out + [t]\n",
    "    out = pd.DataFrame(np.array(out))\n",
    "    out.iloc[:,1] = out.iloc[:,1].astype(str)\n",
    "    cat_map = {}\n",
    "    key = 0\n",
    "    for item in res:\n",
    "        cat_map[item['_id']] = key\n",
    "        i = key\n",
    "        key += 1\n",
    "        if item['cat_name'] in dummy.keys():\n",
    "            dummy[item['cat_name']] += 1\n",
    "            out.iat[i,1] = item['cat_name'].encode('utf-8') + str(dummy[item['cat_name']])\n",
    "        else:\n",
    "            dummy[item['cat_name']] = 0\n",
    "            out.iat[i,1] = item['cat_name'].encode('utf-8')   \n",
    "    out.to_csv(\"category_name.csv\", encoding='utf-8', index=False, header=False, sep='\\t')\n",
    "    dic = corpora.Dictionary.load_from_text(\"category_name.csv\")\n",
    "    return (cat_map, dic)\n",
    "cat_map, cat_dic = build_category_dic()"
   ]
  },
  {
   "cell_type": "markdown",
   "metadata": {},
   "source": [
    "## 来店動機商品群、置き換え対象商品群の選定"
   ]
  },
  {
   "cell_type": "code",
   "execution_count": 22,
   "metadata": {
    "collapsed": false
   },
   "outputs": [],
   "source": [
    "purchase = {}\n",
    "matcher = {'date': {'$gte': start_date, '$lt': end_date}}\n",
    "for c in range(max_class):\n",
    "    basket_id = rct[max_lbl==c, 0]\n",
    "    p_count = {}\n",
    "    for r in basket_id:\n",
    "        matcher = {'basket_id': r}\n",
    "        if pos_repeat is True:\n",
    "            res = db['pos'].find(matcher, {'cat_id':1, 'num':1})\n",
    "            for item in res:\n",
    "                #if int(res[j]['cat_id']) == 977 or int(res[j]['cat_id']) == 978:\n",
    "                    #continue\n",
    "                if p_count.has_key(item['cat_id']):\n",
    "                    p_count[item['cat_id']] += 1\n",
    "                else:\n",
    "                    p_count[item['cat_id']] = 1 \n",
    "                if int(item['num']) > 1:\n",
    "                    for i in range(int(item['num'])-1):\n",
    "                        p_count[item['cat_id']] += 1\n",
    "        else:\n",
    "            res = db['pos'].aggregate([\n",
    "                    {'$match': matcher },\n",
    "                    {'$group':{\n",
    "                        '_id': {'cat_id': '$cat_id'},\n",
    "                        'num': {'$sum': '$num'}\n",
    "                    }}\n",
    "                ])\n",
    "            for item in res:\n",
    "                #if int(res[j]['_id']) == 977 or int(res[j]['_id']) == 978:\n",
    "                    #continue\n",
    "                if p_count.has_key(item['_id']):\n",
    "                    p_count[item['_id']] += 1\n",
    "                else:\n",
    "                    p_count[item['_id']] = 1 \n",
    "                    \n",
    "    # 一人当たり平均購入個数に変換\n",
    "    for p in p_count:\n",
    "        p_count[p] = 1.0 * p_count[p] / len(basket_id)\n",
    "    purchase[c] = p_count"
   ]
  },
  {
   "cell_type": "code",
   "execution_count": 23,
   "metadata": {
    "collapsed": false,
    "scrolled": true
   },
   "outputs": [
    {
     "name": "stdout",
     "output_type": "stream",
     "text": [
      "グローサリー\n",
      "ペット\n",
      "和日配\n",
      "家電\n",
      "洋日配\n",
      "菓子\n",
      "飲料\n"
     ]
    }
   ],
   "source": [
    "# 来店動機商品群は、評価対象から外す\n",
    "main = set([]) \n",
    "for g in purchase:\n",
    "    pop = purchase[g]\n",
    "    pp = 1.\n",
    "    for k, v in sorted(pop.items(), key=lambda x:x[1], reverse=True):\n",
    "        if pp == 1 or pp * .75 < v:\n",
    "            main = main | set([k])\n",
    "            pp = v\n",
    "        else:\n",
    "            break\n",
    "buff = []\n",
    "for m in main:\n",
    "    try:# cat_id が　0 の場合対応\n",
    "        buff.append(cat_dic[cat_map[m]])\n",
    "    except:\n",
    "        pass\n",
    "for b in sorted(buff):\n",
    "    print b"
   ]
  },
  {
   "cell_type": "code",
   "execution_count": 24,
   "metadata": {
    "collapsed": false,
    "scrolled": true
   },
   "outputs": [
    {
     "name": "stdout",
     "output_type": "stream",
     "text": [
      "24\n",
      "1Fレジ前\n",
      "DIY・園芸\n",
      "はきもの\n",
      "アイス\n",
      "インテリア\n",
      "インナー\n",
      "カー用品\n",
      "クラフト\n",
      "スポーツ・レジャー\n",
      "ドラッグ\n",
      "パン\n",
      "レディースアウター\n",
      "ワーク\n",
      "冷凍食品\n",
      "加工肉\n",
      "塩干\n",
      "惣菜\n",
      "文具\n",
      "服飾アクセ\n",
      "生活消耗\n",
      "生活雑貨\n",
      "米\n",
      "軽家具・収納\n",
      "酒\n"
     ]
    }
   ],
   "source": [
    "# 置き換え対象商品群を抽出\n",
    "sub = {}\n",
    "sub_set = set([])\n",
    "for g in purchase:\n",
    "    pop = purchase[g]\n",
    "    sub[g] = []\n",
    "    for k, v in sorted(pop.items(), key=lambda x:x[1], reverse=True):\n",
    "        if k in main:\n",
    "            continue\n",
    "        if v < .05: # 購入確率が低すぎる商品は無視する\n",
    "            break\n",
    "        sub[g].append(k)\n",
    "\n",
    "buff = set([])\n",
    "for g in sub:\n",
    "    for s in sub[g]:\n",
    "        buff |= set([cat_dic[cat_map[s]]])\n",
    "        sub_set |= set([s])\n",
    "print len(buff)\n",
    "for b in sorted(buff):\n",
    "    print b"
   ]
  },
  {
   "cell_type": "markdown",
   "metadata": {},
   "source": [
    "## お互いに場所を交換することで、評価値が向上する商品の組み合わせ探索"
   ]
  },
  {
   "cell_type": "raw",
   "metadata": {},
   "source": [
    "アルゴ\n",
    "   全ての棚をノードとするグラフを作成する\n",
    "   棚xの商品を棚yに動かした時に評価値が向上するなら ノードx → ノードyのエッジを張る\n",
    "   全ての対象商品について移動後の評価値を計算して x→y, y→ｘの双方向のエッジが張らていれば、xとｙは交換可能\n",
    "   ※ グラフ表現を使う必然性はないが、データ形式が楽なのでグラフを利用"
   ]
  },
  {
   "cell_type": "code",
   "execution_count": 25,
   "metadata": {
    "collapsed": false
   },
   "outputs": [],
   "source": [
    "def get_shelf(category):\n",
    "    ''' 商品カテゴリの置かれた棚ＩＤリスト取得\n",
    "    '''\n",
    "    shelf_id_list = db['shelf'].distinct('_id', {'cat_id':category})\n",
    "    result = list(set(shelf_id_list).intersection(node_all_shelfs))\n",
    "    return result"
   ]
  },
  {
   "cell_type": "code",
   "execution_count": 26,
   "metadata": {
    "collapsed": false
   },
   "outputs": [],
   "source": [
    "def get_shelf_prob(shelf, track):\n",
    "    ''' あるグループの動線で、指定した棚前を通る確率\n",
    "    '''\n",
    "    p = 0.0\n",
    "    for item in shelf_dic[str(shelf)]:\n",
    "        p += track[node_id[str(item)]]    \n",
    "    return p"
   ]
  },
  {
   "cell_type": "code",
   "execution_count": 27,
   "metadata": {
    "collapsed": false
   },
   "outputs": [
    {
     "name": "stdout",
     "output_type": "stream",
     "text": [
      "[ 0  1  2  3  4  5  6  7  8  9 10 11 12 13 14 15 16 17 18 19]\n",
      "20\n"
     ]
    }
   ],
   "source": [
    "# グループの人数比率の計算\n",
    "gprob = 1.0 * np.unique(max_lbl, return_counts=True)[1] / len(max_lbl)\n",
    "print np.unique(max_lbl)\n",
    "print len(gprob)"
   ]
  },
  {
   "cell_type": "code",
   "execution_count": 28,
   "metadata": {
    "collapsed": true
   },
   "outputs": [],
   "source": [
    "def get_shelf_prob_all(shelf, category):\n",
    "    ''' 全ての購買グループでの、棚通過確率の期待値を求める\n",
    "    '''\n",
    "    prb = Decimal(0.0)\n",
    "    for i in range(max_class):\n",
    "        if purchase[i].has_key(category):\n",
    "            bprob = purchase[i][category]\n",
    "        else:\n",
    "            bprob = 0.0\n",
    "        prb += Decimal(gprob[i] * get_shelf_prob(shelf, track[i]) * bprob)\n",
    "    return prb "
   ]
  },
  {
   "cell_type": "code",
   "execution_count": 29,
   "metadata": {
    "collapsed": true
   },
   "outputs": [],
   "source": [
    "def get_better_shelf(category):\n",
    "    ''' \n",
    "    '''\n",
    "    sh = get_shelf(category)\n",
    "    hypo = {}\n",
    "    for s in sh:\n",
    "        base_p = get_shelf_prob_all(s, category)\n",
    "        if base_p == 0.0:\n",
    "            continue\n",
    "\n",
    "        for s2 in shelfid_list:\n",
    "            if s == s2:\n",
    "                continue\n",
    "            temp = get_shelf_prob_all(s2, category)\n",
    "            if temp > base_p:\n",
    "                hypo[(s,s2)] = [base_p, temp]\n",
    "    return hypo"
   ]
  },
  {
   "cell_type": "code",
   "execution_count": 30,
   "metadata": {
    "collapsed": true
   },
   "outputs": [],
   "source": [
    "def get_increment_id(collection):\n",
    "    res = db['counter'].find_one_and_update({\"_id\": collection}, update={ \"$inc\": {'counter': 1}},upsert=True)\n",
    "    if res:\n",
    "        return res['counter']\n",
    "    else:\n",
    "        return 0"
   ]
  },
  {
   "cell_type": "code",
   "execution_count": 31,
   "metadata": {
    "collapsed": false
   },
   "outputs": [],
   "source": [
    "# 各グループごとのエリア滞在確率(を求める\n",
    "track = {}\n",
    "\n",
    "for g in range(max_class):\n",
    "    basket_id = rct[max_lbl==g, 0]\n",
    "    track[g] = {}\n",
    "    count = np.zeros((len(track_dic)+1,), dtype=float)\n",
    "   \n",
    "    for ri in range(len(basket_id)):\n",
    "        matcher = {'$and': \n",
    "                      [\n",
    "                          { '_id': basket_id[ri] },\n",
    "                          { 'data.duration': {'$gt': 5}}\n",
    "                       ]\n",
    "                   }\n",
    "        res = db['track'].find(matcher, {'data.node_id':1, 'data.duration':1}).sort([('data.ts',pymongo.ASCENDING),('data.ts_ms',pymongo.ASCENDING)])\n",
    "        for item in res:\n",
    "            for data in item['data']:\n",
    "                if data['duration'] > 5:\n",
    "                    node = node_id[data['node_id']]\n",
    "                    if node == 0:\n",
    "                        continue\n",
    "                    count[node] += 1\n",
    "                    for j in range(int(data['duration']/20)): # 長時間滞在した場合は自己ループさせる\n",
    "                        count[node] += 1\n",
    "    # 一人当たり平均パス通過回数に変換\n",
    "    #for n in range(len(count)):\n",
    "    track[g] = 1.0 * count / len(basket_id) "
   ]
  },
  {
   "cell_type": "code",
   "execution_count": 32,
   "metadata": {
    "collapsed": false
   },
   "outputs": [
    {
     "name": "stdout",
     "output_type": "stream",
     "text": [
      "Round : 0\n",
      "Round : 1\n",
      "Round : 2\n",
      "Round : 3\n",
      "Round : 4\n",
      "Round : 5\n",
      "Round : 6\n",
      "Round : 7\n",
      "Round : 8\n",
      "Round : 9\n",
      "Round : 10\n",
      "Round : 11\n",
      "Round : 12\n",
      "Round : 13\n",
      "Round : 14\n",
      "Round : 15\n",
      "Round : 16\n",
      "Round : 17\n",
      "Round : 18\n",
      "Round : 19\n"
     ]
    }
   ],
   "source": [
    "# 置き換え候補をグラフのエッジの形で構築する\n",
    "Ex = nx.DiGraph()\n",
    "for i in shelfid_list:\n",
    "    Ex.add_node(i, pos=i)\n",
    "for s in sub:\n",
    "#for s in sorted(sub.keys())[0:3]:\n",
    "    for c in sub[s]:\n",
    "        hypo = get_better_shelf(c)\n",
    "        for i, j in hypo:\n",
    "            r = hypo[(i,j)][1] / hypo[(i,j)][0]\n",
    "            try:\n",
    "                w = Ex.edge[i][j]['weight']\n",
    "                if r > w:\n",
    "                    Ex.add_edge(i, j, weight=r, base_p=hypo[(i,j)][0], group=s, category=c)\n",
    "            except:\n",
    "                Ex.add_edge(i, j, weight=r, base_p=hypo[(i,j)][0], group=s, category=c)\n",
    "    print \"Round : {0}\".format(s)"
   ]
  },
  {
   "cell_type": "code",
   "execution_count": 33,
   "metadata": {
    "collapsed": false
   },
   "outputs": [],
   "source": [
    "# レイアウト最適化探索条件テーブル登録\n",
    "if condid != None:\n",
    "    db['swap_candidate'].delete_many({'condid':condid})\n",
    "else:\n",
    "    condid = get_increment_id('layout_opt_cond')\n",
    "    layout_opt_cond={}\n",
    "    layout_opt_cond['_id'] = condid\n",
    "    layout_opt_cond['time_from'] = start_date\n",
    "    layout_opt_cond['time_to'] = end_date\n",
    "    db['layout_opt_cond'].insert_one (layout_opt_cond)"
   ]
  },
  {
   "cell_type": "code",
   "execution_count": 34,
   "metadata": {
    "collapsed": true
   },
   "outputs": [],
   "source": [
    "def catid2shelfid(cat_id_list):\n",
    "    catid_shelfid_dic = {}\n",
    "    res = db['shelf'].find({'cat_id':{'$in':cat_id_list}},{'cat_id':1, '_id':1})\n",
    "    for item in res:\n",
    "        if item['cat_id'] not in catid_shelfid_dic.keys():\n",
    "            catid_shelfid_dic[item['cat_id']] = []\n",
    "        catid_shelfid_dic[item['cat_id']].append(item['_id'])\n",
    "    return catid_shelfid_dic"
   ]
  },
  {
   "cell_type": "code",
   "execution_count": 35,
   "metadata": {
    "collapsed": false
   },
   "outputs": [
    {
     "name": "stdout",
     "output_type": "stream",
     "text": [
      "a,b: 0.02575469387782523636735900613 0.1319782598304716746129283678\n",
      "生活消耗,ドラッグ,5.12\n",
      "a,b: 0.02690061558312113011237967641 0.1307683148285635010930200162\n",
      "生活消耗,ドラッグ,4.86\n",
      "a,b: 0.02690061558312113011237967641 0.1307683148285635010930200162\n",
      "ドラッグ,生活消耗,4.86\n",
      "a,b: 0.02491736464454817712534974439 0.1209829395105075524165585965\n",
      "ドラッグ,生活消耗,4.86\n",
      "a,b: 0.02491736464454817712534974439 0.1209829395105075524165585965\n",
      "生活消耗,ドラッグ,4.86\n"
     ]
    }
   ],
   "source": [
    "# 双方向のつながりを持つエッジ(=交換可能）を抽出する\n",
    "done = {}\n",
    "tup_hyoukati=[]   #b/a keyとして対応のkを格納\n",
    "check = nx.get_edge_attributes(Ex, 'weight')\n",
    "\n",
    "for k in check:\n",
    "    if check.has_key((k[1], k[0])):\n",
    "        if done.has_key((k[1], k[0])):\n",
    "            continue\n",
    "        done[k] = 0\n",
    "        done[(k[1], k[0])] = 0\n",
    "        a = Ex.edge[k[0]][k[1]]['base_p'] + Ex.edge[k[1]][k[0]]['base_p']\n",
    "        b = Ex.edge[k[0]][k[1]]['weight'] * Ex.edge[k[0]][k[1]]['base_p'] + Ex.edge[k[1]][k[0]]['weight'] * Ex.edge[k[1]][k[0]]['base_p']\n",
    "        try:\n",
    "            tup_hyoukati.append((b/a, k))\n",
    "        except:\n",
    "            continue\n",
    "\n",
    "swap_candidate_list = []\n",
    "if tup_hyoukati:\n",
    "    tup_hyoukati = sorted(tup_hyoukati, key=lambda tup: tup[0], reverse=True) \n",
    "    for item in tup_hyoukati:\n",
    "        k = item[1]\n",
    "        cat_id_before = Ex.edge[k[0]][k[1]]['category']\n",
    "        cat_id_after = Ex.edge[k[1]][k[0]]['category']\n",
    "        \n",
    "        a = Ex.edge[k[0]][k[1]]['base_p'] + Ex.edge[k[1]][k[0]]['base_p']\n",
    "        b = Ex.edge[k[0]][k[1]]['weight'] * Ex.edge[k[0]][k[1]]['base_p'] + Ex.edge[k[1]][k[0]]['weight'] * Ex.edge[k[1]][k[0]]['base_p']\n",
    "        print \"a,b:\",a, b\n",
    "        print '%s,%s,%.2f' % \\\n",
    "              (cat_dic[cat_map[Ex.edge[k[0]][k[1]]['category']]], cat_dic[cat_map[Ex.edge[k[1]][k[0]]['category']]], b/a)\n",
    "        \n",
    "        swapset_id = get_increment_id('swapset_id')\n",
    "        # エントリ１\n",
    "        swap_candidate = {}\n",
    "        swap_candidate['_id'] = get_increment_id('swap_candidate') # 入替え候補ID（このデータを一意に指定）\n",
    "        swap_candidate['condid'] = condid   # 条件ID（どの条件IDにひもづくかを示す\n",
    "        swap_candidate['swapset_id'] = swapset_id  # 入替えの組を表すID\n",
    "        swap_candidate['category'] = cat_id_before  # 入替え商品のカテゴリー\n",
    "        swap_candidate['jan'] = ''  # 入替え商品のJANコード\n",
    "        swap_candidate['shelf'] = ''  # 入替え商品の棚コード\n",
    "        swap_candidate['shelfid_from'] = k[0]  # 入替え前の棚番号\n",
    "        swap_candidate['shelfid_to'] = k[1]  # 入替え後の棚番号\n",
    "        swap_candidate['val_before'] = float(Ex.edge[k[0]][k[1]]['base_p'])  # 入替え前の評価値\n",
    "        swap_candidate['val_after'] = float(Ex.edge[k[0]][k[1]]['weight']) * float(Ex.edge[k[0]][k[1]]['base_p'])\n",
    "        swap_candidate_list.append(swap_candidate)\n",
    "        # エントリ2\n",
    "        swap_candidate = {}\n",
    "        swap_candidate['_id'] = get_increment_id('swap_candidate') # 入替え候補ID（このデータを一意に指定）\n",
    "        swap_candidate['condid'] = condid   # 条件ID（どの条件IDにひもづくかを示す\n",
    "        swap_candidate['swapset_id'] = swapset_id  # 入替えの組を表すID\n",
    "        swap_candidate['category'] = cat_id_after  # 入替え商品のカテゴリー\n",
    "        swap_candidate['jan'] = ''  # 入替え商品のJANコード\n",
    "        swap_candidate['shelf'] = ''  # 入替え商品の棚コード\n",
    "        swap_candidate['shelfid_from'] = k[1]  # 入替え前の棚番号\n",
    "        swap_candidate['shelfid_to'] = k[0]  # 入替え後の棚番号\n",
    "        swap_candidate['val_before'] = float(Ex.edge[k[1]][k[0]]['base_p'])  # 入替え前の評価値\n",
    "        swap_candidate['val_after'] = float(Ex.edge[k[1]][k[0]]['weight']) * float(Ex.edge[k[1]][k[0]]['base_p'])\n",
    "        swap_candidate_list.append(swap_candidate)\n",
    "        if len(swap_candidate_list) == 10:\n",
    "            break\n",
    "if swap_candidate_list:\n",
    "    # 商品入替え候補テーブルの登録\n",
    "    db['swap_candidate'].insert_many(swap_candidate_list)"
   ]
  },
  {
   "cell_type": "markdown",
   "metadata": {},
   "source": [
    "## 置き換え対象商品群全体で、最適な配置を求める"
   ]
  },
  {
   "cell_type": "raw",
   "metadata": {},
   "source": [
    "アルゴ\n",
    "　　置き換え対象商品に対応するノード群１と、それらの商品が置かれている棚に対応するノード群２\n",
    "    からなる2部グラフを構築\n",
    "    商品ｘを棚ｙに置いてもよい場合にx から yにエッジを張り、そのエッジの重みとして評価値を設定する\n",
    "　　あとは2部グラフの重みつき最大マッチング問題として解けばOK\n",
    "    ただし、同一商品が複数の棚に置かれいることや、１つの棚IDに複数の商品が置かれていることがあるので\n",
    "    商品および棚のノードを必要に応じて増殖させる"
   ]
  },
  {
   "cell_type": "code",
   "execution_count": null,
   "metadata": {
    "collapsed": false
   },
   "outputs": [],
   "source": [
    "# 後続処理は最適配置の算出のため、一旦ここで処理を停止\n",
    "sys.exit()"
   ]
  },
  {
   "cell_type": "code",
   "execution_count": null,
   "metadata": {
    "collapsed": false
   },
   "outputs": [],
   "source": [
    "# 既存の商品・棚ペアをテーブル可しておく\n",
    "p_sh = {}\n",
    "for c in sub_set:\n",
    "    if get_shelf(c):\n",
    "        p_sh[c] = set(get_shelf(c))"
   ]
  },
  {
   "cell_type": "code",
   "execution_count": null,
   "metadata": {
    "collapsed": false
   },
   "outputs": [],
   "source": [
    "OptG = nx.Graph()\n",
    "\n",
    "# オリジナルの商品・棚の組み合わせを2部グラフ化\n",
    "shelf_node = []\n",
    "w_base = 0.\n",
    "e_base = 0\n",
    "for c in sub_set:\n",
    "    sh = get_shelf(c)        # その商品が置かれている棚\n",
    "    for i in range(len(sh)):  \n",
    "        i_node = 'I%d.%d' % (int(c), i)\n",
    "        OptG.add_node(i_node) # 置き換え対象商品のノード作成\n",
    "        shelf_node.append(sh[i])\n",
    "        s_node = 'S%d.%d' % (int(sh[i]), int(c))\n",
    "        w = get_shelf_prob_all(sh[i], c)\n",
    "        w_base += w\n",
    "        e_base += 1\n",
    "        OptG.add_edge(i_node, s_node, weight=w, orig=1)\n"
   ]
  },
  {
   "cell_type": "code",
   "execution_count": null,
   "metadata": {
    "collapsed": false
   },
   "outputs": [],
   "source": [
    "# 置き換え可能な商品と棚の間に、評価値に基づくエッジを張る\n",
    "for c in sub_set:\n",
    "    for n in OptG.nodes_iter():\n",
    "        if re.match('^S', n):\n",
    "            s = int(re.search('^S(.*)\\.', n).groups()[0])\n",
    "            if c not in p_sh.keys():\n",
    "                continue\n",
    "            if s in p_sh[c]:\n",
    "                continue\n",
    "            #if s == 42 or s == 43: # レジで売るものの場所は変えない\n",
    "                #continue\n",
    "            w = get_shelf_prob_all(s, c)\n",
    "            \n",
    "            sh = get_shelf(c)        # その商品が置かれている棚\n",
    "            for i in range(len(sh)):  \n",
    "                i_node = 'I%d.%d' % (int(c), i)            \n",
    "                OptG.add_edge(i_node, n, weight=w, orig=0)  "
   ]
  },
  {
   "cell_type": "code",
   "execution_count": null,
   "metadata": {
    "collapsed": false,
    "scrolled": true
   },
   "outputs": [],
   "source": [
    "# 最適解の探索\n",
    "match = nx.max_weight_matching(OptG, True)"
   ]
  },
  {
   "cell_type": "code",
   "execution_count": null,
   "metadata": {
    "collapsed": false,
    "scrolled": true
   },
   "outputs": [],
   "source": [
    "# 結果表示 (移動が無い場合は除外)\n",
    "e_new = 0\n",
    "w_new = 0.\n",
    "chg = 0\n",
    "for m in match:\n",
    "    if re.match('^S', m):\n",
    "        continue\n",
    "    e_new += 1\n",
    "    w_new += OptG.edge[m][match[m]]['weight']\n",
    "    item = re.match('^I(.*)\\.', m).groups()[0]\n",
    "    tmp = re.match('^S(.*)\\.(.*)', match[m]).groups()\n",
    "    if item == tmp[1]: # 移動なし\n",
    "        continue\n",
    "    chg += 1\n",
    "    print '%s,%s  /  %s,%s' % (cat_dic[int(item)], cat_dic[int(tmp[1])], m, match[m])\n",
    "    \n",
    "print e_base, e_new # 商品・棚の組み合わせ数に変化はないか\n",
    "print w_base, w_new, w_new/w_base # 評価値はどう変化したか"
   ]
  },
  {
   "cell_type": "code",
   "execution_count": null,
   "metadata": {
    "collapsed": false
   },
   "outputs": [],
   "source": [
    "# 商品の置き場所が変わったものの辞書を作る\n",
    "replace = {}\n",
    "for m in match:\n",
    "    if re.match('^S', m):\n",
    "        continue\n",
    "    item = int(re.match('^I(.*)\\.', m).groups()[0]) # 対象商品\n",
    "    shlf = int(re.match('^S(.*)\\.(.*)$', match[m]).groups()[0]) # 置き場所\n",
    "    w = OptG.edge[m][match[m]]['weight']\n",
    "    if str(item) not in p_sh.keys():\n",
    "        continue\n",
    "    if shlf in p_sh[str(item)]:\n",
    "        continue\n",
    "    if replace.has_key(item):\n",
    "        if w > replace[item][1]:\n",
    "            replace[item] = [shlf, w]\n",
    "        #replace[item] += [shlf]\n",
    "    else:\n",
    "        replace[item] = [shlf, w]\n",
    "        #replace[item] = [shlf]"
   ]
  },
  {
   "cell_type": "markdown",
   "metadata": {},
   "source": [
    "## 結果を可視化する"
   ]
  },
  {
   "cell_type": "code",
   "execution_count": null,
   "metadata": {
    "collapsed": false
   },
   "outputs": [],
   "source": [
    "# 棚ID（shelf_id)の中心位置を格納したテーブルの作成\n",
    "shelf_pos = {}\n",
    "res = db['shelf'].find({},{'_id':1, 'x':1, 'y':1})\n",
    "for item in res:\n",
    "    shelf_pos[item['_id']] = [item['x'], item['y']]\n"
   ]
  },
  {
   "cell_type": "code",
   "execution_count": null,
   "metadata": {
    "collapsed": true
   },
   "outputs": [],
   "source": [
    "# 描画対象グループ\n",
    "gid = 12\n",
    "\n",
    "# グループ内で買われた商品で、置き換え対象商品なもの\n",
    "pset = set(purchase[gid].keys())\n",
    "target = sub_set & pset"
   ]
  },
  {
   "cell_type": "code",
   "execution_count": null,
   "metadata": {
    "collapsed": false
   },
   "outputs": [],
   "source": [
    "# 置き換えが発生しているかどうか確認\n",
    "for t in target:\n",
    "    data = {}\n",
    "    if t == 0:\n",
    "        continue\n",
    "    old = get_shelf(t)\n",
    "    if replace.has_key(int(t)):\n",
    "        new = replace[int(t)][0]\n",
    "        print t, cat_dic[int(t)], ': ', old, ' -> ', new"
   ]
  },
  {
   "cell_type": "code",
   "execution_count": null,
   "metadata": {
    "collapsed": false
   },
   "outputs": [],
   "source": [
    "# グラフとして図示\n",
    "fig = plt.figure(figsize=(20,10))\n",
    "plt.rcParams[\"font.size\"] = 20\n",
    "color = np.random.randint(0, 100, 50)\n",
    "color = np.random.randint(0,255,(500,3))\n",
    "for g in range(2):\n",
    "    ax = fig.add_subplot(1, 2, g+1)\n",
    "\n",
    "    ax.tick_params(labelbottom='off')\n",
    "    ax.tick_params(labelleft='off')\n",
    "    # 行動可能エリアの矩形を描画する\n",
    "    #a = np.array(Area.values())\n",
    "    #xlim= [np.min(a[:,0])-500, np.max(a[:,2])+500]\n",
    "    #ylim= [np.max(a[:,3])+50, np.min(a[:,1])-500]\n",
    "    xmin=xmax=ymin=ymax=0 \n",
    "    for i,item in enumerate(Area):\n",
    "        if i == 0:\n",
    "            xmin=xmax=int(Area[item]['x0'])\n",
    "            ymin=ymax=int(Area[item]['y0'])\n",
    "        else:\n",
    "            if int(Area[item]['x0']) < xmin:\n",
    "                xmin = int(Area[item]['x0'])\n",
    "            if int(Area[item]['x0']) > xmax:\n",
    "                xmax = int(Area[item]['x0'])\n",
    "            if int(Area[item]['y0']) < ymin:\n",
    "                ymin = int(Area[item]['y0'])\n",
    "            if int(Area[item]['y0']) > ymax:\n",
    "                ymax = int(Area[item]['y0'])\n",
    "    xlim= [xmin-500, xmax+500]\n",
    "    ylim= [ymax+50, ymin-500]\n",
    "        \n",
    "    ax.set_xlim(xlim)\n",
    "    ax.set_ylim(ylim)\n",
    "    for k in Area.keys():\n",
    "        rec = Area[k]\n",
    "        ax.add_patch( plt.Rectangle(xy=[int(rec['x0']), int(rec['y0'])], width=500, height=300, fill=True, facecolor='#b0b0b0', alpha=0.1) )\n",
    "        #ax.add_patch( plt.Rectangle(xy=[rec[0], rec[1]], width=rec[2]-rec[0], height=rec[3]-rec[1], fill=True, facecolor='#b0b0b0', alpha=0.1) )\n",
    "        # ax.text((rec[0]+rec[2])/2, (rec[1]+rec[3])/2+100, k, ha='center', va='top')\n",
    "\n",
    "\n",
    "    # エッジ, ノードの色と大きさを決める\n",
    "    val = []\n",
    "    for i,j in G.edges_iter(data=False):\n",
    "        w = (track[gid][int(node_id[str(i)])] + track[gid][int(node_id[str(j)])])/2.\n",
    "        val.append(w)\n",
    "    val = np.array(val)\n",
    "    ewidth = map(lambda x: min(5, max(x, 0.1)), np.log10(val + 1e-10)*2.5+5)\n",
    "    ecolor = val\n",
    "\n",
    "    # パス頻度の塗り分け\n",
    "    pos = nx.get_node_attributes(G, 'pos')\n",
    "    nc = nx.draw_networkx_edges(G, pos=pos, width=ewidth, \n",
    "                           edge_cmap=plt.cm.Greys, edge_color=val, edge_vmin=-1, arrows=False, alpha=0.8)\n",
    "    \n",
    "    same = {}\n",
    "    if g == 0:\n",
    "        # 買われた商品の置き場所\n",
    "        for i in range(len(target)):\n",
    "            t = list(target)[i]\n",
    "            if t == 0:\n",
    "                continue\n",
    "            if not get_shelf(t):\n",
    "                continue\n",
    "            s = get_shelf(t)[0] # 複数ある時はそのうちの１つのみ\n",
    "            r = (np.log(purchase[gid][t]) + 8) * 40.\n",
    "            c = '#%02x%02x%02x' % tuple(color[i])\n",
    "            x, y = shelf_pos[s]\n",
    "            if same.has_key(s):\n",
    "                same[s] += 1\n",
    "                x += 150 * same[s]\n",
    "            else:\n",
    "                same[s] = 0\n",
    "            ax.add_patch( plt.Circle([x, y], radius=r, color=c, alpha=0.8))\n",
    "            ax.text(x, y+100, t, ha='center', va='top', size=18)\n",
    "        ax.set_title('before')\n",
    "    else:\n",
    "        # 最適化後の商品の置き場所\n",
    "        for i in range(len(target)):\n",
    "            t = list(target)[i]\n",
    "            if t == 0:\n",
    "                continue\n",
    "            if replace.has_key(t):\n",
    "                s = replace[t][0]\n",
    "            else:\n",
    "                if not get_shelf(t):\n",
    "                    continue\n",
    "                s = get_shelf(t)[0]\n",
    "            r = (np.log(purchase[gid][t]) + 8) * 40.\n",
    "            c = '#%02x%02x%02x' % tuple(color[i])\n",
    "            x, y = shelf_pos[s]\n",
    "            if same.has_key(s):\n",
    "                same[s] += 1\n",
    "                x += 150 * same[s]\n",
    "            else:\n",
    "                same[s] = 0\n",
    "            ax.add_patch( plt.Circle([x, y], radius=r, color=c, alpha=0.8))\n",
    "            ax.text(x, y+100, t, ha='center', va='top', size=18)\n",
    "        ax.set_title('after')"
   ]
  },
  {
   "cell_type": "markdown",
   "metadata": {},
   "source": [
    " "
   ]
  }
 ],
 "metadata": {
  "kernelspec": {
   "display_name": "Python 2",
   "language": "python",
   "name": "python2"
  },
  "language_info": {
   "codemirror_mode": {
    "name": "ipython",
    "version": 2
   },
   "file_extension": ".py",
   "mimetype": "text/x-python",
   "name": "python",
   "nbconvert_exporter": "python",
   "pygments_lexer": "ipython2",
   "version": "2.7.9"
  }
 },
 "nbformat": 4,
 "nbformat_minor": 0
}
