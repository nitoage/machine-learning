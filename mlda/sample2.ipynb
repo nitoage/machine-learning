{
 "cells": [
  {
   "cell_type": "markdown",
   "metadata": {},
   "source": [
    "## テーマ\n",
    "  MLDAを用いて、投資対象を絞り込む用途に用いる。\n",
    "  そのため、具体的な投資対象を一意に絞り込む用途は想定していない。\n",
    "\n",
    "### 用途目的\n",
    "  投資対象として有望なものを導出する。\n",
    "　１．一年分のチャート等を読み込ませ今後の動向を分類させる。（急騰、暴落、停滞、微増、微減）など"
   ]
  },
  {
   "cell_type": "code",
   "execution_count": 1,
   "metadata": {
    "collapsed": true
   },
   "outputs": [],
   "source": [
    "#!/usr/bin/env python\n",
    "# -*- coding: utf-8 -*-\n",
    "\n",
    "import pandas as pd\n",
    "import numpy as np\n",
    "from datetime import datetime as dt\n",
    "from pytz import timezone\n",
    "import pytz\n",
    "from pymongo import MongoClient\n",
    "import pymongo\n",
    "import re\n",
    "import sys\n",
    "from decimal import *\n",
    "from gensim import corpora\n",
    "import time\n",
    "import networkx as nx\n",
    "import LDA\n",
    "reload(LDA)\n",
    "from LDA import *\n",
    "import matplotlib.pyplot as plt\n",
    "%matplotlib inline"
   ]
  },
  {
   "cell_type": "code",
   "execution_count": null,
   "metadata": {
    "collapsed": true
   },
   "outputs": [],
   "source": [
    "def loading_data():\n",
    "    '''\n",
    "    MLDA解析用のデータを読み込む\n",
    "    '''\n",
    "    return None"
   ]
  },
  {
   "cell_type": "code",
   "execution_count": null,
   "metadata": {
    "collapsed": true
   },
   "outputs": [],
   "source": [
    "def "
   ]
  }
 ],
 "metadata": {
  "kernelspec": {
   "display_name": "Python 2",
   "language": "python",
   "name": "python2"
  },
  "language_info": {
   "codemirror_mode": {
    "name": "ipython",
    "version": 2
   },
   "file_extension": ".py",
   "mimetype": "text/x-python",
   "name": "python",
   "nbconvert_exporter": "python",
   "pygments_lexer": "ipython2",
   "version": "2.7.9"
  }
 },
 "nbformat": 4,
 "nbformat_minor": 0
}
