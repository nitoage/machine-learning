{
 "cells": [
  {
   "cell_type": "code",
   "execution_count": 1,
   "metadata": {
    "collapsed": true
   },
   "outputs": [],
   "source": [
    "from CompareFeatures import  CompareFeatures\n",
    "from VideoAnalyze import  VideoAnalyze\n",
    "import json\n",
    "import sys\n",
    "import os\n",
    "import shutil"
   ]
  },
  {
   "cell_type": "code",
   "execution_count": 2,
   "metadata": {
    "collapsed": true
   },
   "outputs": [],
   "source": [
    "sys.argv=['run.py','1.mp4']"
   ]
  },
  {
   "cell_type": "code",
   "execution_count": 3,
   "metadata": {},
   "outputs": [
    {
     "name": "stdout",
     "output_type": "stream",
     "text": [
      "{0: {'line': {'base': './base_img/Screenshot_20170620-194415.png', 'match': './s_img/tap_line_0.jpg', 'is_parent': True, 'scale': 1}, 'tap': {'base': None, 'match': './s_img/tap_0.jpg', 'scale': 1}}, 1: {'line': {'base': './base_img/Screenshot_20170620-194300.png', 'match': './s_img/tap_line_1.jpg', 'is_parent': True, 'scale': 1}, 'tap': {'base': None, 'match': './s_img/tap_1.jpg', 'scale': 1}}, 2: {'line': {'base': './base_img/Screenshot_20170620-194246.png', 'match': './s_img/tap_line_2.jpg', 'is_parent': True, 'scale': 1}, 'tap': {'base': None, 'match': './s_img/tap_2.jpg', 'scale': 1}}, 3: {'line': {'base': './base_img/Screenshot_20170620-194306.png', 'match': './s_img/tap_line_3.jpg', 'is_parent': True, 'scale': 1}, 'tap': {'base': None, 'match': './s_img/tap_3.jpg', 'scale': 1}}, 4: {'line': {'base': './base_img/Screenshot_20170620-194306.png', 'match': './s_img/tap_line_4.jpg', 'is_parent': True, 'scale': 1}, 'tap': {'base': None, 'match': './s_img/tap_4.jpg', 'scale': 1}}, 5: {'line': {'base': './base_img/Screenshot_20170620-194415.png', 'match': './s_img/tap_line_5.jpg', 'is_parent': True, 'scale': 1}, 'tap': {'base': None, 'match': './s_img/tap_5.jpg', 'scale': 1}}, 6: {'line': {'base': './base_img/Screenshot_20170620-194237.png', 'match': './s_img/tap_line_6.jpg', 'is_parent': True, 'scale': 1}, 'tap': {'base': None, 'match': './s_img/tap_6.jpg', 'scale': 1}}, 7: {'line': {'base': './base_img/Screenshot_20170620-194415.png', 'match': './s_img/tap_line_7.jpg', 'is_parent': True, 'scale': 1}, 'tap': {'base': None, 'match': './s_img/tap_7.jpg', 'scale': 1}}, 8: {'line': {'base': './base_img/Screenshot_20170620-194415.png', 'match': './s_img/tap_line_8.jpg', 'is_parent': True, 'scale': 1}, 'tap': {'base': None, 'match': './s_img/tap_8.jpg', 'scale': 1}}, 9: {'line': {'base': './base_img/Screenshot_20170620-194415.png', 'match': './s_img/tap_line_9.jpg', 'is_parent': True, 'scale': 1}, 'tap': {'base': None, 'match': './s_img/tap_9.jpg', 'scale': 1}}, 10: {'line': {'base': './base_img/Screenshot_20170620-194415.png', 'match': './s_img/tap_line_10.jpg', 'is_parent': True, 'scale': 1}, 'tap': {'base': None, 'match': './s_img/tap_10.jpg', 'scale': 1}}, 11: {'line': {'base': './base_img/Screenshot_20170620-194415.png', 'match': './s_img/tap_line_11.jpg', 'is_parent': True, 'scale': 1}, 'tap': {'base': None, 'match': './s_img/tap_11.jpg', 'scale': 1}}, 12: {'line': {'base': './base_img/Screenshot_20170620-194311.png', 'match': './s_img/tap_line_12.jpg', 'is_parent': True, 'scale': 1}, 'tap': {'base': None, 'match': './s_img/tap_12.jpg', 'scale': 1}}, 13: {'line': {'base': './base_img/Screenshot_20170620-194311.png', 'match': './s_img/tap_line_13.jpg', 'is_parent': True, 'scale': 1}, 'tap': {'base': None, 'match': './s_img/tap_13.jpg', 'scale': 1}}, 14: {'line': {'base': './base_img/Screenshot_20170620-194415.png', 'match': './s_img/tap_line_14.jpg', 'is_parent': True, 'scale': 1}, 'tap': {'base': None, 'match': './s_img/tap_14.jpg', 'scale': 1}}, 15: {'line': {'base': './base_img/Screenshot_20170620-194415.png', 'match': './s_img/tap_line_15.jpg', 'is_parent': True, 'scale': 1}, 'tap': {'base': None, 'match': './s_img/tap_15.jpg', 'scale': 1}}, 16: {'line': {'base': './base_img/Screenshot_20170620-194311.png', 'match': './s_img/tap_line_16.jpg', 'is_parent': True, 'scale': 1}, 'tap': {'base': None, 'match': './s_img/tap_16.jpg', 'scale': 1}}, 17: {'line': {'base': './base_img/Screenshot_20170620-194311.png', 'match': './s_img/tap_line_17.jpg', 'is_parent': True, 'scale': 1}, 'tap': {'base': None, 'match': './s_img/tap_17.jpg', 'scale': 1}}, 18: {'line': {'base': './base_img/Screenshot_20170620-194311.png', 'match': './s_img/tap_line_18.jpg', 'is_parent': True, 'scale': 1}, 'tap': {'base': None, 'match': './s_img/tap_18.jpg', 'scale': 1}}, 19: {'line': {'base': './base_img/Screenshot_20170620-194311.png', 'match': './s_img/tap_line_19.jpg', 'is_parent': True, 'scale': 1}, 'tap': {'base': None, 'match': './s_img/tap_19.jpg', 'scale': 1}}, 20: {'line': {'base': './base_img/Screenshot_20170620-194311.png', 'match': './s_img/tap_line_20.jpg', 'is_parent': True, 'scale': 1}, 'tap': {'base': None, 'match': './s_img/tap_20.jpg', 'scale': 1}}}\n",
      "#540*888#\n",
      "タップ:0,907.253173828125,1534.9986572265625,0,0,0\n",
      "待機:10,10,0,0,0,0\n",
      "タップ:0,1090.3441162109375,923.6187133789062,0,0,0\n",
      "待機:10,10,0,0,0,0\n",
      "タップ:0,901.9669799804688,85.07435607910156,0,0,0\n",
      "待機:10,10,0,0,0,0\n",
      "タップ:0,113.84709930419922,681.510986328125,0,0,0\n",
      "待機:10,10,0,0,0,0\n",
      "タップ:0,114.3130111694336,682.68505859375,0,0,0\n",
      "待機:10,10,0,0,0,0\n",
      "タップ:0,789.683349609375,1205.637451171875,0,0,0\n",
      "待機:10,10,0,0,0,0\n",
      "タップ:0,1673.129638671875,1475.91064453125,0,0,0\n",
      "待機:10,10,0,0,0,0\n",
      "タップ:0,1970.972412109375,1212.662841796875,0,0,0\n",
      "待機:10,10,0,0,0,0\n",
      "タップ:0,1293.793212890625,2236.1826171875,0,0,0\n",
      "待機:10,10,0,0,0,0\n",
      "タップ:0,1617.448486328125,1396.7296142578125,0,0,0\n",
      "待機:10,10,0,0,0,0\n",
      "タップ:0,1289.3399658203125,2231.156982421875,0,0,0\n",
      "待機:10,10,0,0,0,0\n",
      "タップ:0,2176.87158203125,1394.5029296875,0,0,0\n",
      "待機:10,10,0,0,0,0\n",
      "タップ:0,1375.201416015625,1668.874755859375,0,0,0\n",
      "待機:10,10,0,0,0,0\n",
      "タップ:0,1613.506103515625,1396.683349609375,0,0,0\n",
      "待機:10,10,0,0,0,0\n",
      "タップ:0,1016.6152954101562,400.6451416015625,0,0,0\n",
      "待機:10,10,0,0,0,0\n",
      "タップ:0,1480.9083251953125,626.1674194335938,0,0,0\n",
      "待機:10,10,0,0,0,0\n",
      "タップ:0,1227.1807861328125,661.2499389648438,0,0,0\n",
      "待機:10,10,0,0,0,0\n",
      "タップ:0,2101.64892578125,1584.854736328125,0,0,0\n",
      "待機:10,10,0,0,0,0\n",
      "タップ:0,1079.087890625,622.8731689453125,0,0,0\n",
      "待機:10,10,0,0,0,0\n",
      "タップ:0,1418.898681640625,344.2147521972656,0,0,0\n",
      "待機:10,10,0,0,0,0\n"
     ]
    }
   ],
   "source": [
    "# テストベースシナリオ\n",
    "if __name__ == '__main__':\n",
    "    # 動画 引数必須\n",
    "    if len(sys.argv) < 1:\n",
    "        print('Usage: python3 video_analyze.py video_name.mp4')\n",
    "        sys.exit(1)\n",
    "\n",
    "    va=VideoAnalyze(sys.argv[1])\n",
    "    try:\n",
    "        senario_dict=va.main()\n",
    "#         f = open('{0}.json'.format(\"base_senario\"), 'w')\n",
    "#         json.dump(senario_dict, f)\n",
    "#         f.close()\n",
    "    except Exception as e:\n",
    "        print(\"ERROR : Generate to base_senario.json. \")\n",
    "        print(e)\n",
    "    \n",
    "    if not os.path.isdir(\"./s_img\"):\n",
    "        shutil.rmtree(\"./s_img\")\n",
    "        os.mkdir(\"./s_img\")\n",
    "    \n",
    "    # ベースシナリオjson読み込み\n",
    "#     f = open('base_senario.json', 'r')\n",
    "#     data = json.load(f)\n",
    "    #print(senario_dict)\n",
    "    data = senario_dict\n",
    "\n",
    "    # 解像度\n",
    "    scale='#540*888#'\n",
    "    print(scale)\n",
    "    cf = CompareFeatures()\n",
    "    for key in data:\n",
    "        bs=data[key]\n",
    "        cf.load_imgs(bs['line']['base'],bs['line']['match'],scale=(1,bs['line']['scale']))\n",
    "        cf.get_postion(IS_PARENT=True)\n",
    "        cf.load_imgs(bs['tap']['base'],bs['tap']['match'],scale=(1,bs['tap']['scale']))\n",
    "        try:\n",
    "            pos = cf.get_postion()\n",
    "            print(\"タップ:0,{0},{1},0,0,0\".format(pos[0],pos[1]))\n",
    "            print(\"待機:10,10,0,0,0,0\".format(pos))\n",
    "        except:\n",
    "            pass"
   ]
  },
  {
   "cell_type": "code",
   "execution_count": null,
   "metadata": {
    "collapsed": true
   },
   "outputs": [],
   "source": []
  }
 ],
 "metadata": {
  "kernelspec": {
   "display_name": "Python 3",
   "language": "python",
   "name": "python3"
  },
  "language_info": {
   "codemirror_mode": {
    "name": "ipython",
    "version": 3
   },
   "file_extension": ".py",
   "mimetype": "text/x-python",
   "name": "python",
   "nbconvert_exporter": "python",
   "pygments_lexer": "ipython3",
   "version": "3.6.1"
  }
 },
 "nbformat": 4,
 "nbformat_minor": 2
}
