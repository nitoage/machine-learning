{
 "cells": [
  {
   "cell_type": "code",
   "execution_count": 1,
   "metadata": {
    "collapsed": true
   },
   "outputs": [],
   "source": [
    "import cv2\n",
    "import os\n",
    "import matplotlib.pyplot as plt\n",
    "import numpy as np\n",
    "import sys\n",
    "import shutil"
   ]
  },
  {
   "cell_type": "code",
   "execution_count": 23,
   "metadata": {
    "collapsed": true
   },
   "outputs": [],
   "source": [
    "cascade = cv2.CascadeClassifier('cascade.xml') #分類器の指定\n",
    "cap = cv2.VideoCapture('1.mp4')\n",
    "senario_dict={}\n",
    "i=0\n",
    "if not os.path.isdir(\"./s_img\"):\n",
    "    os.mkdir(\"./s_img\")\n",
    "\n",
    "while(cap.isOpened()):\n",
    "    ret, frame = cap.read()\n",
    "\n",
    "    gray = cv2.cvtColor(frame, cv2.COLOR_BGR2GRAY)\n",
    "    # detectMultiScale(Mat image, MatOfRect objects, double scaleFactor, int minNeighbors, int flag, Size minSize, Size maxSize)\n",
    "    detector = cascade.detectMultiScale(gray, 1.1, 3) #物体の検出\n",
    "    if not detector:\n",
    "        continue\n",
    "\n",
    "    tmp1=gray.copy()\n",
    "    tmp2=gray.copy()\n",
    "    for (x, y, w, h) in detector:\n",
    "        # タップライン\n",
    "        height, width = img.shape[:2]\n",
    "        tap_line=tmp1[y:y+h, 0:width]\n",
    "        tap_line_name='./s_img/tap_line_{0}.jpg'.format(i)\n",
    "        cv2.imwrite(tap_line_name, tap_line)\n",
    "        senario_dict[i]['line']['base']=tmp1\n",
    "        senario_dict[i]['line']['match']=tap_line\n",
    "        senario_dict[i]['line']['is_parent']=True\n",
    "        senario_dict[i]['line']['scale']=1\n",
    "        \n",
    "        # タップ位置\n",
    "        tap_img=tmp2[y:y+h, x:x+w]\n",
    "        tap_name='./s_img/tap_{0}.jpg'.format(i)\n",
    "        cv2.imwrite(tap_name, tap_img)\n",
    "        senario_dict[i]['tap']['base']=None\n",
    "        senario_dict[i]['tap']['match']=tap_img\n",
    "        senario_dict[i]['tap']['scale']=1\n",
    "        \n",
    "    i+=1\n",
    "    if cv2.waitKey(1) & 0xFF == ord('q'):\n",
    "        break\n",
    "\n",
    "        \n",
    "f = open('{0}.json'.format(\"sample_senario\"), 'w')\n",
    "json.dump(senario_dict, f)\n",
    "\n",
    "cap.release()\n",
    "cv2.destroyAllWindows()"
   ]
  }
 ],
 "metadata": {
  "kernelspec": {
   "display_name": "Python 3",
   "language": "python",
   "name": "python3"
  },
  "language_info": {
   "codemirror_mode": {
    "name": "ipython",
    "version": 3
   },
   "file_extension": ".py",
   "mimetype": "text/x-python",
   "name": "python",
   "nbconvert_exporter": "python",
   "pygments_lexer": "ipython3",
   "version": "3.6.1"
  }
 },
 "nbformat": 4,
 "nbformat_minor": 2
}
