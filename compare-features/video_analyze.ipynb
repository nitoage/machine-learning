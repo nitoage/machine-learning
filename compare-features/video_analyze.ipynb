{
 "cells": [
  {
   "cell_type": "code",
   "execution_count": null,
   "metadata": {
    "collapsed": true
   },
   "outputs": [],
   "source": [
    "import cv2\n",
    "import os\n",
    "#import matplotlib.pyplot as plt\n",
    "import numpy as np\n",
    "import sys\n",
    "import shutil\n",
    "import json\n",
    "import glob"
   ]
  },
  {
   "cell_type": "code",
   "execution_count": null,
   "metadata": {
    "collapsed": true
   },
   "outputs": [],
   "source": [
    "# def show_matching(match):\n",
    "#     matched=match['matched']\n",
    "#     kp1=match['kp1']\n",
    "#     kp2=match['kp2']\n",
    "#     img1=match['img1']\n",
    "#     img2=match['img2']\n",
    "#     # 対応する特徴点同士を描画\n",
    "#     img = cv2.drawMatchesKnn(img1, kp1, img2, kp2, matched, None, flags=2)\n",
    "# #     img = cv2.drawMatches(img1, kp1, img2, kp2, matched, None, flags=2)\n",
    "#     plt.figure(figsize=(16,12))\n",
    "#     plt.imshow(cv2.cvtColor(img, cv2.COLOR_BGR2RGB))\n",
    "#     plt.show()"
   ]
  },
  {
   "cell_type": "code",
   "execution_count": null,
   "metadata": {},
   "outputs": [],
   "source": [
    "# 特徴量抽出\n",
    "# A-KAZE検出器の生成\n",
    "detector = cv2.AKAZE_create()\n",
    "# Brute-Force Matcher生成\n",
    "bf=cv2.BFMatcher(cv2.NORM_L1,crossCheck=False)\n",
    "IMG_SIZE = (200, 200)\n",
    "drop_ratio=0.5\n",
    "cascade = cv2.CascadeClassifier('cascade.xml') #分類器の指定\n",
    "\n",
    "senario_dict={}\n",
    "i=0\n",
    "if not os.path.isdir(\"./s_img\"):\n",
    "    os.mkdir(\"./s_img\")\n",
    "\n",
    "d_dict={}\n",
    "for img_path in glob.glob('./base_img/*.png'):\n",
    "    gray_img = cv2.imread(img_path, cv2.IMREAD_GRAYSCALE)\n",
    "#     gray_img = cv2.resize(gray_img, IMG_SIZE)\n",
    "    kp, des = detector.detectAndCompute(gray_img, None)\n",
    "    d_dict[img_path]={}\n",
    "    d_dict[img_path]['des']=des\n",
    "    d_dict[img_path]['kp']=kp\n",
    "    d_dict[img_path]['img']=gray_img\n",
    "    \n",
    "    \n",
    "cap = cv2.VideoCapture('./1.mp4')\n",
    "while(cap.isOpened()):\n",
    "    ret, frame = cap.read()\n",
    "    if frame is None:\n",
    "        break\n",
    "    #gray = cv2.cvtColor(frame, cv2.COLOR_BGR2GRAY)\n",
    "    # detectMultiScale(Mat image, MatOfRect objects, double scaleFactor, int minNeighbors, int flag, Size minSize, Size maxSize)\n",
    "    detect = cascade.detectMultiScale(frame, 1.1, 3) #物体の検出\n",
    "    #print(detector)\n",
    "    if type(detect) is tuple:\n",
    "        continue\n",
    "\n",
    "        \n",
    "    # 特徴量の検出と特徴量ベクトルの計算\n",
    "    top_match={}\n",
    "    tmp1=frame.copy()\n",
    "    tmp2=frame.copy()\n",
    "    gray_tmp2 = cv2.cvtColor(tmp2, cv2.COLOR_BGR2GRAY)\n",
    "#     gray_tmp2 = cv2.resize(gray, IMG_SIZE)\n",
    "    __, target_des = detector.detectAndCompute(gray_tmp2, None)\n",
    "    for path in glob.glob('./base_img/*.png'):\n",
    "        try:\n",
    "#             matches = bf.match(target_des, d_dict[path]['des'])\n",
    "#             dist = [m.distance for m in matches]\n",
    "#             matched = [m for m in matches]\n",
    "#             matched = sorted(matches, key=lambda x:x.distance)\n",
    "            \n",
    "            matches = bf.knnMatch(target_des, d_dict[path]['des'], k=2)\n",
    "            dist = []\n",
    "            matched=[]\n",
    "            for m, n in matches:\n",
    "                if m.distance < drop_ratio * n.distance:\n",
    "                    matched.append([m])\n",
    "                    dist.append(m.distance)\n",
    "\n",
    "            ret = sum(dist) / len(dist)\n",
    "            \n",
    "            if not top_match or top_match['ret'] > ret:\n",
    "                top_match['ret']=ret\n",
    "                top_match['path']=path\n",
    "                top_match['ts']={'matched':matched, 'img1':d_dict[path]['img'], 'kp1':d_dict[path]['kp'],'img2':gray_tmp2, 'kp2':__,}\n",
    "                \n",
    "                \n",
    "        except cv2.error:\n",
    "            ret = 100000\n",
    "\n",
    "#     print(top_match['path'], top_match['ret'])\n",
    "    #show_matching(top_match['ts'])\n",
    "\n",
    "    for (x, y, w, h) in detect:\n",
    "        # タップライン\n",
    "        height, width = tmp1.shape[:2]\n",
    "        tap_line=tmp1[y:y+h, 0:width]\n",
    "        tap_line_name='./s_img/tap_line_{0}.jpg'.format(i)\n",
    "        cv2.imwrite(tap_line_name, tap_line)\n",
    "        senario_dict[i]={}\n",
    "        senario_dict[i]['line']={}\n",
    "        senario_dict[i]['line']['base']=top_match['path']\n",
    "        senario_dict[i]['line']['match']=tap_line_name\n",
    "        senario_dict[i]['line']['is_parent']=True\n",
    "        senario_dict[i]['line']['scale']=1\n",
    "        \n",
    "        # タップ位置\n",
    "        tap_img=tmp1[y:y+h, x:x+w]\n",
    "        tap_name='./s_img/tap_{0}.jpg'.format(i)\n",
    "        cv2.imwrite(tap_name, tap_img)\n",
    "        senario_dict[i]['tap']={}\n",
    "        senario_dict[i]['tap']['base']=None\n",
    "        senario_dict[i]['tap']['match']=tap_name\n",
    "        senario_dict[i]['tap']['scale']=1\n",
    "        i+=1\n",
    "\n",
    "    if cv2.waitKey(1) & 0xFF == ord('q'):\n",
    "        break\n",
    "\n",
    "# print(senario_dict)\n",
    "\n",
    "# json.dump(senario_dict, f)\n",
    "\n",
    "# cap.release()\n",
    "# cv2.destroyAllWindows()"
   ]
  },
  {
   "cell_type": "code",
   "execution_count": null,
   "metadata": {
    "collapsed": true
   },
   "outputs": [],
   "source": [
    "f = open('{0}.json'.format(\"sample_senario\"), 'w')\n",
    "json.dump(senario_dict, f)\n",
    "f.close()"
   ]
  },
  {
   "cell_type": "code",
   "execution_count": null,
   "metadata": {
    "collapsed": true
   },
   "outputs": [],
   "source": []
  },
  {
   "cell_type": "code",
   "execution_count": null,
   "metadata": {
    "collapsed": true
   },
   "outputs": [],
   "source": []
  }
 ],
 "metadata": {
  "kernelspec": {
   "display_name": "Python 3",
   "language": "python",
   "name": "python3"
  },
  "language_info": {
   "codemirror_mode": {
    "name": "ipython",
    "version": 3
   },
   "file_extension": ".py",
   "mimetype": "text/x-python",
   "name": "python",
   "nbconvert_exporter": "python",
   "pygments_lexer": "ipython3",
   "version": "3.6.1"
  }
 },
 "nbformat": 4,
 "nbformat_minor": 2
}
